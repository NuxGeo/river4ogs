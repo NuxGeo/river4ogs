{
 "cells": [
  {
   "cell_type": "markdown",
   "metadata": {},
   "source": [
    "# Download and extract waterways from OpenStreetMap (OSM)\n",
    "Here are two ways to download and extract a network consists of rivers and streams from the OSM (* .pbf) data.\n",
    "\n",
    "## 1. Using pyrosm package\n",
    "See this package on [GitHub](https://github.com/HTenkanen/pyrosm) for more detail."
   ]
  },
  {
   "cell_type": "code",
   "execution_count": 1,
   "metadata": {},
   "outputs": [],
   "source": [
    "from pyrosm import OSM, get_data\n",
    "from fiona.crs import from_epsg\n",
    "import time"
   ]
  },
  {
   "cell_type": "code",
   "execution_count": 2,
   "metadata": {},
   "outputs": [
    {
     "name": "stdout",
     "output_type": "stream",
     "text": [
      "\n",
      "Start downloading OSM data for Liechtenstein...\n",
      "Downloaded Protobuf data 'liechtenstein-latest.osm.pbf' (2.54 MB) to:\n",
      "'C:\\Users\\zhouy\\AppData\\Local\\Temp\\pyrosm\\liechtenstein-latest.osm.pbf'\n",
      "Downloading finished, lasted 1.0 seconds.\n"
     ]
    }
   ],
   "source": [
    "my_place = 'liechtenstein'\n",
    "\n",
    "start_time = time.time()\n",
    "print(f\"\\nStart downloading OSM data for \" + my_place.title() + \"...\")\n",
    "fp = get_data(my_place)\n",
    "print(f\"Downloading finished,\"\n",
    "      f\" lasted {round(time.time() - start_time, 0)} seconds.\")\n",
    "osm = OSM(fp)"
   ]
  },
  {
   "cell_type": "code",
   "execution_count": 3,
   "metadata": {},
   "outputs": [],
   "source": [
    "# Custom filter\n",
    "waterways = ['river', 'stream']"
   ]
  },
  {
   "cell_type": "code",
   "execution_count": 4,
   "metadata": {},
   "outputs": [
    {
     "name": "stdout",
     "output_type": "stream",
     "text": [
      "\n",
      "Start parsing custom lines...\n",
      "Parsing lines finished, lasted 2.0 seconds.\n",
      "Number of lines parsed: 348\n"
     ]
    },
    {
     "name": "stderr",
     "output_type": "stream",
     "text": [
      "C:\\Users\\zhouy\\Anaconda3\\envs\\geo_env\\lib\\site-packages\\pyrosm\\user_defined.py:41: VisibleDeprecationWarning: Creating an ndarray from ragged nested sequences (which is a list-or-tuple of lists-or-tuples-or ndarrays with different lengths or shapes) is deprecated. If you meant to do this, you must specify 'dtype=object' when creating the ndarray\n",
      "  osm_keys=osm_keys,\n"
     ]
    }
   ],
   "source": [
    "print(f\"\\nStart parsing custom lines...\")\n",
    "my_waterways = osm.get_data_by_custom_criteria(custom_filter={\n",
    "    'waterway': waterways},\n",
    "    filter_type='keep',\n",
    "    keep_nodes=False,\n",
    "    keep_ways=True,\n",
    "    keep_relations=True)\n",
    "print(f\"Parsing lines finished, \"\n",
    "      f\"lasted {round(time.time() - start_time, 0)} seconds.\")\n",
    "print(f\"Number of lines parsed: {len(my_waterways)}\")"
   ]
  },
  {
   "cell_type": "markdown",
   "metadata": {},
   "source": [
    "Information to this warning see: https://github.com/HTenkanen/pyrosm/issues/50"
   ]
  },
  {
   "cell_type": "code",
   "execution_count": 5,
   "metadata": {},
   "outputs": [
    {
     "name": "stdout",
     "output_type": "stream",
     "text": [
      "['LineString' 'MultiLineString']\n"
     ]
    }
   ],
   "source": [
    "# The result may contain some polygons (not in this case), filter out these polygons if necessary\n",
    "my_waterways['geom_type'] = my_waterways.geometry.geom_type\n",
    "print(my_waterways['geom_type'].unique())\n",
    "\n",
    "my_waterways = my_waterways[my_waterways['geom_type'] != 'Polygon']"
   ]
  },
  {
   "cell_type": "markdown",
   "metadata": {},
   "source": [
    "See https://github.com/HTenkanen/pyrosm/issues/67 for the polygon issue."
   ]
  },
  {
   "cell_type": "code",
   "execution_count": 6,
   "metadata": {},
   "outputs": [
    {
     "name": "stdout",
     "output_type": "stream",
     "text": [
      "           id  timestamp  version  tags  geometry  osm_type  changeset  \\\n",
      "waterway                                                                 \n",
      "river       4          4        4     3         4         4          1   \n",
      "stream    344        344      344   208       344       344          0   \n",
      "\n",
      "          geom_type  \n",
      "waterway             \n",
      "river             4  \n",
      "stream          344  \n"
     ]
    }
   ],
   "source": [
    "# Count the number of each waterway type\n",
    "type_waterways = my_waterways.groupby('waterway')\n",
    "print(type_waterways.count())"
   ]
  },
  {
   "cell_type": "code",
   "execution_count": 7,
   "metadata": {},
   "outputs": [],
   "source": [
    "# Re-project the network before simplification\n",
    "my_waterways = my_waterways.to_crs(epsg=25832)"
   ]
  },
  {
   "cell_type": "code",
   "execution_count": 8,
   "metadata": {},
   "outputs": [],
   "source": [
    "# # Now you can use shapely_filter.py for further simplification (see README.md) or just export as a GeoJSON file or shapefile\n",
    "# multi_line = [shape(feature) for feature in my_waterways['geometry']]\n",
    "# multi_line_union = unary_union(multi_line)\n",
    "# multi_line_merge = linemerge(multi_line_union)\n",
    "\n",
    "# my_multi_line = LineFilter(multi_line_merge)\n",
    "# multi_line_filtered = my_multi_line.simplify_line()"
   ]
  },
  {
   "cell_type": "markdown",
   "metadata": {},
   "source": [
    "## 2. Using esy-osmfilter package\n",
    "See this package on [GitLab](https://gitlab.com/dlr-ve-esy/esy-osmfilter) for more detail. The package assuming the * .pbf file is already [downloaded](http://download.geofabrik.de/europe/liechtenstein.html)."
   ]
  },
  {
   "cell_type": "code",
   "execution_count": 9,
   "metadata": {},
   "outputs": [],
   "source": [
    "import os\n",
    "from esy.osmfilter import Node, Way, Relation\n",
    "from esy.osmfilter import run_filter\n",
    "from esy.osmfilter import export_geojson"
   ]
  },
  {
   "cell_type": "code",
   "execution_count": 10,
   "metadata": {},
   "outputs": [
    {
     "name": "stdout",
     "output_type": "stream",
     "text": [
      "Number of lines after filtering: 349\n"
     ]
    }
   ],
   "source": [
    "# You need to download the *.pbf file first, and put it in your working directory\n",
    "# Define input and output\n",
    "PBF_inputfile = os.path.join(os.getcwd(), 'liechtenstein-latest.osm.pbf')\n",
    "JSON_outputfile = os.path.join(os.getcwd(), 'liechtenstein_river_stream.json')\n",
    "\n",
    "# Custom filter\n",
    "prefilter = {Node: {}, Way: {'waterway': ['river', 'stream', ], }, Relation: {}}\n",
    "blackfilter = [(\"waterway\", \"riverbank\"), ]  # we don't want 'riverbank' in our results\n",
    "whitefilter = [((\"waterway\", \"river\"),), ((\"waterway\", \"stream\"),), ]\n",
    "\n",
    "# Run osmfilter\n",
    "[Data, Elements] = run_filter('liechtenstein-latest-river-stream',\n",
    "                       PBF_inputfile,\n",
    "                       JSON_outputfile,\n",
    "                       prefilter,\n",
    "                       whitefilter,\n",
    "                       blackfilter,\n",
    "                       NewPreFilterData=True,\n",
    "                       CreateElements=True,\n",
    "                       LoadElements=False,\n",
    "                       verbose=False,\n",
    "                       multiprocess=True)\n",
    "\n",
    "print(f\"Number of lines after filtering: \"\n",
    "      + str(len(Elements['liechtenstein-latest-river-stream']['Way'])))"
   ]
  },
  {
   "cell_type": "markdown",
   "metadata": {},
   "source": [
    "The numbers of filtered lines from the two methods are different, however, after union and merge, the networks have the same lines (402 lines)"
   ]
  },
  {
   "cell_type": "code",
   "execution_count": 11,
   "metadata": {},
   "outputs": [],
   "source": [
    "# Export to GeoJSON file\n",
    "export_geojson(Elements['liechtenstein-latest-river-stream']['Way'], Data,\n",
    "               filename='liechtenstein_river_stream.geojson', jsontype='Line')"
   ]
  },
  {
   "cell_type": "markdown",
   "metadata": {},
   "source": [
    "Remember to re-project the network before simplification using shapely_filter.py module."
   ]
  }
 ],
 "metadata": {
  "kernelspec": {
   "display_name": "Python [conda env:geo_env] *",
   "language": "python",
   "name": "conda-env-geo_env-py"
  },
  "language_info": {
   "codemirror_mode": {
    "name": "ipython",
    "version": 3
   },
   "file_extension": ".py",
   "mimetype": "text/x-python",
   "name": "python",
   "nbconvert_exporter": "python",
   "pygments_lexer": "ipython3",
   "version": "3.7.8"
  }
 },
 "nbformat": 4,
 "nbformat_minor": 4
}
